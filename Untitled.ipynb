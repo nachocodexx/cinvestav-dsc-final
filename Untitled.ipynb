{
 "cells": [
  {
   "cell_type": "code",
   "execution_count": 1,
   "id": "important-bishop",
   "metadata": {},
   "outputs": [],
   "source": [
    "import pandas as pd\n",
    "import numpy as np\n",
    "import matplotlib.pyplot as plt\n",
    "# Neuronal network\n",
    "from sklearn.neural_network import MLPClassifier\n",
    "# Decision Tree\n",
    "from sklearn.tree import DecisionTreeClassifier\n",
    "# Bayesian Clasiffier\n",
    "from sklearn.naive_bayes import GaussianNB\n",
    "# SVM\n",
    "from sklearn.svm import SVC\n",
    "# \n",
    "from sklearn.pipeline import make_pipeline\n",
    "from sklearn.preprocessing import LabelEncoder\n",
    "from sklearn.preprocessing import StandardScaler  \n",
    "from sklearn.model_selection import train_test_split\n",
    "from sklearn.metrics import confusion_matrix as CM\n",
    "from sklearn.metrics import plot_confusion_matrix as PCM\n",
    "from sklearn.metrics import classification_report as CR"
   ]
  },
  {
   "cell_type": "markdown",
   "id": "conditional-debate",
   "metadata": {},
   "source": [
    "# Actividad 1"
   ]
  },
  {
   "cell_type": "markdown",
   "id": "mathematical-hawaii",
   "metadata": {},
   "source": [
    "## Conjunto de datos"
   ]
  },
  {
   "cell_type": "code",
   "execution_count": 2,
   "id": "emotional-growth",
   "metadata": {},
   "outputs": [],
   "source": [
    "car_df = pd.read_csv(\"./data/car.csv\")"
   ]
  },
  {
   "cell_type": "markdown",
   "id": "french-salmon",
   "metadata": {},
   "source": [
    "### Mapeo de columnas categoricas a numericas"
   ]
  },
  {
   "cell_type": "code",
   "execution_count": 3,
   "id": "subject-rates",
   "metadata": {},
   "outputs": [],
   "source": [
    "def categoryToNumeric(df,*cols):\n",
    "    _temp = df.copy()\n",
    "    enconders = {}\n",
    "    for col in cols:\n",
    "        enconders[col] =  LabelEncoder()\n",
    "        values         = df[col].values \n",
    "        enconders[col].fit(values)\n",
    "        _temp[col]     = enconders[col].transform(values)\n",
    "    return _temp,enconders\n",
    "_car_df,encoders = categoryToNumeric(car_df,\"buying\",\"maint\",\"doors\",\"persons\",\"lug_boot\",\"safety\",\"target\")"
   ]
  },
  {
   "cell_type": "code",
   "execution_count": 4,
   "id": "uniform-probe",
   "metadata": {},
   "outputs": [],
   "source": [
    "X                = _car_df.iloc[:,:-1].values\n",
    "y                = _car_df.iloc[:,-1].values\n",
    "total_of_classes = np.unique(y).shape[0]"
   ]
  },
  {
   "cell_type": "markdown",
   "id": "disciplinary-brunswick",
   "metadata": {},
   "source": [
    "### Dividir en subconjuntos de prueba y entrenamiento"
   ]
  },
  {
   "cell_type": "code",
   "execution_count": 5,
   "id": "dirty-disability",
   "metadata": {},
   "outputs": [],
   "source": [
    "X_train,X_test,y_train,y_test     = train_test_split(X, y, test_size=0.33, random_state=42)"
   ]
  },
  {
   "cell_type": "markdown",
   "id": "facial-assignment",
   "metadata": {},
   "source": [
    "## Red Neuronal"
   ]
  },
  {
   "cell_type": "code",
   "execution_count": 6,
   "id": "lightweight-thursday",
   "metadata": {},
   "outputs": [],
   "source": [
    "clf = MLPClassifier(solver='lbfgs', alpha=1e-5,hidden_layer_sizes=(5, total_of_classes), random_state=1)"
   ]
  },
  {
   "cell_type": "markdown",
   "id": "operating-elevation",
   "metadata": {},
   "source": [
    "### Entrenamiento del perceptron multi-capa "
   ]
  },
  {
   "cell_type": "code",
   "execution_count": 7,
   "id": "sonic-being",
   "metadata": {},
   "outputs": [
    {
     "name": "stderr",
     "output_type": "stream",
     "text": [
      "/home/nacho/.local/lib/python3.6/site-packages/sklearn/neural_network/_multilayer_perceptron.py:500: ConvergenceWarning: lbfgs failed to converge (status=1):\n",
      "STOP: TOTAL NO. of ITERATIONS REACHED LIMIT.\n",
      "\n",
      "Increase the number of iterations (max_iter) or scale the data as shown in:\n",
      "    https://scikit-learn.org/stable/modules/preprocessing.html\n",
      "  self.n_iter_ = _check_optimize_result(\"lbfgs\", opt_res, self.max_iter)\n"
     ]
    },
    {
     "data": {
      "text/plain": [
       "MLPClassifier(alpha=1e-05, hidden_layer_sizes=(5, 4), random_state=1,\n",
       "              solver='lbfgs')"
      ]
     },
     "execution_count": 7,
     "metadata": {},
     "output_type": "execute_result"
    }
   ],
   "source": [
    "clf.fit(X_train,y_train)"
   ]
  },
  {
   "cell_type": "markdown",
   "id": "hidden-twenty",
   "metadata": {},
   "source": [
    "### Prediccion"
   ]
  },
  {
   "cell_type": "code",
   "execution_count": 8,
   "id": "charged-margin",
   "metadata": {},
   "outputs": [],
   "source": [
    "y_pred = clf.predict(X_test)"
   ]
  },
  {
   "cell_type": "markdown",
   "id": "medium-possible",
   "metadata": {},
   "source": [
    "### Matriz de confusion(0)"
   ]
  },
  {
   "cell_type": "code",
   "execution_count": 9,
   "id": "light-spring",
   "metadata": {},
   "outputs": [
    {
     "data": {
      "text/plain": [
       "<sklearn.metrics._plot.confusion_matrix.ConfusionMatrixDisplay at 0x7f57e7a94da0>"
      ]
     },
     "execution_count": 9,
     "metadata": {},
     "output_type": "execute_result"
    },
    {
     "data": {
      "image/png": "[encoded data removed]",
      "text/plain": [
       "<Figure size 432x288 with 2 Axes>"
      ]
     },
     "metadata": {
      "needs_background": "light"
     },
     "output_type": "display_data"
    }
   ],
   "source": [
    "PCM(clf,X_test, y_test)"
   ]
  },
  {
   "cell_type": "markdown",
   "id": "experienced-timing",
   "metadata": {},
   "source": [
    "### Reporte de clasificacion(0)"
   ]
  },
  {
   "cell_type": "code",
   "execution_count": 10,
   "id": "ahead-plenty",
   "metadata": {},
   "outputs": [
    {
     "name": "stdout",
     "output_type": "stream",
     "text": [
      "              precision    recall  f1-score   support\n",
      "\n",
      "           0       0.58      0.83      0.68       129\n",
      "           1       0.00      0.00      0.00        20\n",
      "           2       0.94      0.91      0.93       397\n",
      "           3       0.00      0.00      0.00        25\n",
      "\n",
      "    accuracy                           0.82       571\n",
      "   macro avg       0.38      0.44      0.40       571\n",
      "weighted avg       0.78      0.82      0.80       571\n",
      "\n"
     ]
    },
    {
     "name": "stderr",
     "output_type": "stream",
     "text": [
      "/home/nacho/.local/lib/python3.6/site-packages/sklearn/metrics/_classification.py:1245: UndefinedMetricWarning: Precision and F-score are ill-defined and being set to 0.0 in labels with no predicted samples. Use `zero_division` parameter to control this behavior.\n",
      "  _warn_prf(average, modifier, msg_start, len(result))\n",
      "/home/nacho/.local/lib/python3.6/site-packages/sklearn/metrics/_classification.py:1245: UndefinedMetricWarning: Precision and F-score are ill-defined and being set to 0.0 in labels with no predicted samples. Use `zero_division` parameter to control this behavior.\n",
      "  _warn_prf(average, modifier, msg_start, len(result))\n",
      "/home/nacho/.local/lib/python3.6/site-packages/sklearn/metrics/_classification.py:1245: UndefinedMetricWarning: Precision and F-score are ill-defined and being set to 0.0 in labels with no predicted samples. Use `zero_division` parameter to control this behavior.\n",
      "  _warn_prf(average, modifier, msg_start, len(result))\n"
     ]
    }
   ],
   "source": [
    "print(CR(y_test,y_pred))"
   ]
  },
  {
   "cell_type": "markdown",
   "id": "cubic-gossip",
   "metadata": {},
   "source": [
    "## Arboles de decision"
   ]
  },
  {
   "cell_type": "code",
   "execution_count": 11,
   "id": "under-officer",
   "metadata": {},
   "outputs": [],
   "source": [
    "clf = DecisionTreeClassifier()"
   ]
  },
  {
   "cell_type": "markdown",
   "id": "viral-johnston",
   "metadata": {},
   "source": [
    "### Entrenamiento"
   ]
  },
  {
   "cell_type": "code",
   "execution_count": 12,
   "id": "monthly-deadline",
   "metadata": {},
   "outputs": [],
   "source": [
    "clf = clf.fit(X_train, y_train)"
   ]
  },
  {
   "cell_type": "markdown",
   "id": "headed-cursor",
   "metadata": {},
   "source": [
    "### Prediccion"
   ]
  },
  {
   "cell_type": "code",
   "execution_count": 13,
   "id": "honest-grace",
   "metadata": {},
   "outputs": [],
   "source": [
    "y_pred = clf.predict(X_test)"
   ]
  },
  {
   "cell_type": "markdown",
   "id": "annual-strategy",
   "metadata": {},
   "source": [
    "### Matriz de confusion(1)"
   ]
  },
  {
   "cell_type": "code",
   "execution_count": 14,
   "id": "derived-twenty",
   "metadata": {},
   "outputs": [
    {
     "data": {
      "text/plain": [
       "<sklearn.metrics._plot.confusion_matrix.ConfusionMatrixDisplay at 0x7f57bc907f28>"
      ]
     },
     "execution_count": 14,
     "metadata": {},
     "output_type": "execute_result"
    },
    {
     "data": {
      "image/png": "[encoded data removed]",
      "text/plain": [
       "<Figure size 432x288 with 2 Axes>"
      ]
     },
     "metadata": {
      "needs_background": "light"
     },
     "output_type": "display_data"
    }
   ],
   "source": [
    "PCM(clf,X_test, y_test)"
   ]
  },
  {
   "cell_type": "markdown",
   "id": "convinced-beads",
   "metadata": {},
   "source": [
    "### Reporte de clasificacion(1)"
   ]
  },
  {
   "cell_type": "code",
   "execution_count": 15,
   "id": "proprietary-grill",
   "metadata": {},
   "outputs": [
    {
     "name": "stdout",
     "output_type": "stream",
     "text": [
      "              precision    recall  f1-score   support\n",
      "\n",
      "           0       0.96      0.91      0.94       129\n",
      "           1       0.69      1.00      0.82        20\n",
      "           2       0.99      0.99      0.99       397\n",
      "           3       1.00      0.88      0.94        25\n",
      "\n",
      "    accuracy                           0.97       571\n",
      "   macro avg       0.91      0.95      0.92       571\n",
      "weighted avg       0.98      0.97      0.97       571\n",
      "\n"
     ]
    }
   ],
   "source": [
    "print(CR(y_test,y_pred))"
   ]
  },
  {
   "cell_type": "markdown",
   "id": "voluntary-mouse",
   "metadata": {},
   "source": [
    "## Clasificador bayesiano"
   ]
  },
  {
   "cell_type": "code",
   "execution_count": 16,
   "id": "exclusive-times",
   "metadata": {},
   "outputs": [],
   "source": [
    "clf = GaussianNB()"
   ]
  },
  {
   "cell_type": "markdown",
   "id": "pressing-investing",
   "metadata": {},
   "source": [
    "### Prediccion"
   ]
  },
  {
   "cell_type": "code",
   "execution_count": 17,
   "id": "spread-entrepreneur",
   "metadata": {},
   "outputs": [],
   "source": [
    "y_pred = clf.fit(X_train, y_train).predict(X_test)"
   ]
  },
  {
   "cell_type": "markdown",
   "id": "therapeutic-testimony",
   "metadata": {},
   "source": [
    "### Matriz de confusion(2)"
   ]
  },
  {
   "cell_type": "code",
   "execution_count": 18,
   "id": "chicken-equilibrium",
   "metadata": {},
   "outputs": [
    {
     "data": {
      "text/plain": [
       "<sklearn.metrics._plot.confusion_matrix.ConfusionMatrixDisplay at 0x7f57deb78860>"
      ]
     },
     "execution_count": 18,
     "metadata": {},
     "output_type": "execute_result"
    },
    {
     "data": {
      "image/png": "[encoded data removed]",
      "text/plain": [
       "<Figure size 432x288 with 2 Axes>"
      ]
     },
     "metadata": {
      "needs_background": "light"
     },
     "output_type": "display_data"
    }
   ],
   "source": [
    "PCM(clf,X_test, y_test)\n",
    "plt.savefig(\"m00\",dpi=300)"
   ]
  },
  {
   "cell_type": "markdown",
   "id": "nearby-reception",
   "metadata": {},
   "source": [
    "### Reporte de clasificacion(2)"
   ]
  },
  {
   "cell_type": "code",
   "execution_count": 19,
   "id": "helpful-nomination",
   "metadata": {},
   "outputs": [
    {
     "name": "stdout",
     "output_type": "stream",
     "text": [
      "              precision    recall  f1-score   support\n",
      "\n",
      "           0       0.48      0.09      0.14       129\n",
      "           1       0.00      0.00      0.00        20\n",
      "           2       0.85      0.84      0.84       397\n",
      "           3       0.16      1.00      0.28        25\n",
      "\n",
      "    accuracy                           0.65       571\n",
      "   macro avg       0.37      0.48      0.32       571\n",
      "weighted avg       0.70      0.65      0.63       571\n",
      "\n"
     ]
    },
    {
     "name": "stderr",
     "output_type": "stream",
     "text": [
      "/home/nacho/.local/lib/python3.6/site-packages/sklearn/metrics/_classification.py:1245: UndefinedMetricWarning: Precision and F-score are ill-defined and being set to 0.0 in labels with no predicted samples. Use `zero_division` parameter to control this behavior.\n",
      "  _warn_prf(average, modifier, msg_start, len(result))\n",
      "/home/nacho/.local/lib/python3.6/site-packages/sklearn/metrics/_classification.py:1245: UndefinedMetricWarning: Precision and F-score are ill-defined and being set to 0.0 in labels with no predicted samples. Use `zero_division` parameter to control this behavior.\n",
      "  _warn_prf(average, modifier, msg_start, len(result))\n",
      "/home/nacho/.local/lib/python3.6/site-packages/sklearn/metrics/_classification.py:1245: UndefinedMetricWarning: Precision and F-score are ill-defined and being set to 0.0 in labels with no predicted samples. Use `zero_division` parameter to control this behavior.\n",
      "  _warn_prf(average, modifier, msg_start, len(result))\n"
     ]
    }
   ],
   "source": [
    "print(CR(y_test,y_pred))"
   ]
  },
  {
   "cell_type": "code",
   "execution_count": 72,
   "id": "abroad-investor",
   "metadata": {},
   "outputs": [
    {
     "data": {
      "image/png": "[encoded data removed]",
      "text/plain": [
       "<Figure size 504x504 with 1 Axes>"
      ]
     },
     "metadata": {
      "needs_background": "light"
     },
     "output_type": "display_data"
    }
   ],
   "source": [
    "def plot_bars(accs,**kwargs):\n",
    "    _,ax = plt.subplots(figsize=(7,7))\n",
    "    labels = kwargs.get(\"labels\",[\"Neuronal Network\",\"Decision Tree\",\"Bayesian Classifier\"])\n",
    "    ax.bar(0,accs[0],color=\"#fff\",edgecolor=\"black\",hatch=\".\",label=labels[0])\n",
    "    ax.bar(1,accs[1],color=\"#fff\",edgecolor=\"black\",hatch=\"///\",label=labels[1])\n",
    "    ax.bar(2,accs[2],color=\"#fff\",edgecolor=\"black\",hatch=\"O\",label=labels[2])\n",
    "    ax.set_xticks([])\n",
    "    ax.set_ylabel(\"Accuracy Rate\")\n",
    "    ax.legend(bbox_to_anchor=(1.4,1))\n",
    "    plt.savefig(\"images/00\",bbox_inches='tight')\n",
    "accs = [0.82,0.96,0.65]\n",
    "plot_bars(accs)"
   ]
  },
  {
   "cell_type": "markdown",
   "id": "hungry-strike",
   "metadata": {},
   "source": [
    "# Actividad 2 "
   ]
  },
  {
   "cell_type": "markdown",
   "id": "worse-entity",
   "metadata": {},
   "source": [
    "### Conjunto de datos"
   ]
  },
  {
   "cell_type": "code",
   "execution_count": 26,
   "id": "mediterranean-habitat",
   "metadata": {},
   "outputs": [],
   "source": [
    "data_names = ['./data/disjoint.csv',\"./data/partial_overlapping.csv\",\"./data/total_overlapping.csv\"]\n",
    "def prepareData(filename):\n",
    "    if(filename==\"./data/total_overlapping.csv\"):\n",
    "        df =  pd.read_csv(filename,header=None)\n",
    "    else:\n",
    "        df =  pd.read_csv(filename,sep=\"\\t\",header=None)\n",
    "    X  = df.iloc[:,:-1].values\n",
    "    y  = df.iloc[:,-1].values\n",
    "    return X,y\n",
    "data = list(map(prepareData, data_names))\n",
    "# data[2][0]\n",
    "# pd.read_csv(\"./data/total_overlapping.csv\")"
   ]
  },
  {
   "cell_type": "markdown",
   "id": "interracial-liquid",
   "metadata": {},
   "source": [
    "### Grafrica(1): \"Disjoint\""
   ]
  },
  {
   "cell_type": "code",
   "execution_count": 27,
   "id": "communist-pontiac",
   "metadata": {},
   "outputs": [
    {
     "data": {
      "image/png": "[encoded data removed]",
      "text/plain": [
       "<Figure size 504x504 with 1 Axes>"
      ]
     },
     "metadata": {
      "needs_background": "light"
     },
     "output_type": "display_data"
    }
   ],
   "source": [
    "plot_data(0,title=\"Disjoint dataset\")\n",
    "plt.savefig(\"01\",dpi=300)"
   ]
  },
  {
   "cell_type": "markdown",
   "id": "through-turkey",
   "metadata": {},
   "source": [
    "### Dividir en subconjuntos de prueba y entrenamiento"
   ]
  },
  {
   "cell_type": "code",
   "execution_count": 53,
   "id": "rapid-handbook",
   "metadata": {},
   "outputs": [],
   "source": [
    "INDEX=0\n",
    "X_train,X_test,y_train,y_test     = train_test_split(data[INDEX][0], data[INDEX][1], test_size=0.33, random_state=42)"
   ]
  },
  {
   "cell_type": "markdown",
   "id": "voluntary-chuck",
   "metadata": {},
   "source": [
    "# Clasificacion: \n",
    "Redes neuronal, SVM y Clasificador Bayesiano"
   ]
  },
  {
   "cell_type": "markdown",
   "id": "bottom-behavior",
   "metadata": {},
   "source": [
    "### Redes neuronales"
   ]
  },
  {
   "cell_type": "code",
   "execution_count": 54,
   "id": "proof-prime",
   "metadata": {},
   "outputs": [],
   "source": [
    "clf = MLPClassifier(solver='lbfgs', alpha=1e-5,hidden_layer_sizes=(5, 3), random_state=1)"
   ]
  },
  {
   "cell_type": "markdown",
   "id": "revised-drive",
   "metadata": {},
   "source": [
    "#### Entrenamiento"
   ]
  },
  {
   "cell_type": "code",
   "execution_count": 55,
   "id": "black-killing",
   "metadata": {},
   "outputs": [
    {
     "data": {
      "text/plain": [
       "MLPClassifier(alpha=1e-05, hidden_layer_sizes=(5, 3), random_state=1,\n",
       "              solver='lbfgs')"
      ]
     },
     "execution_count": 55,
     "metadata": {},
     "output_type": "execute_result"
    }
   ],
   "source": [
    "clf.fit(X_train,y_train)"
   ]
  },
  {
   "cell_type": "markdown",
   "id": "promising-arctic",
   "metadata": {},
   "source": [
    "### Prediccion"
   ]
  },
  {
   "cell_type": "code",
   "execution_count": 56,
   "id": "alpha-profile",
   "metadata": {},
   "outputs": [],
   "source": [
    "y_pred = clf.predict(X_test)"
   ]
  },
  {
   "cell_type": "markdown",
   "id": "recreational-finish",
   "metadata": {},
   "source": [
    "### Matriz de confusion(3)"
   ]
  },
  {
   "cell_type": "code",
   "execution_count": 57,
   "id": "illegal-pendant",
   "metadata": {},
   "outputs": [
    {
     "data": {
      "text/plain": [
       "<sklearn.metrics._plot.confusion_matrix.ConfusionMatrixDisplay at 0x7f57bb811cf8>"
      ]
     },
     "execution_count": 57,
     "metadata": {},
     "output_type": "execute_result"
    },
    {
     "data": {
      "image/png": "[encoded data removed]",
      "text/plain": [
       "<Figure size 432x288 with 2 Axes>"
      ]
     },
     "metadata": {
      "needs_background": "light"
     },
     "output_type": "display_data"
    }
   ],
   "source": [
    "PCM(clf,X_test, y_test)"
   ]
  },
  {
   "cell_type": "markdown",
   "id": "green-shakespeare",
   "metadata": {},
   "source": [
    "### Reporte de clasificacion(3)"
   ]
  },
  {
   "cell_type": "code",
   "execution_count": 58,
   "id": "wanted-worthy",
   "metadata": {},
   "outputs": [
    {
     "name": "stdout",
     "output_type": "stream",
     "text": [
      "              precision    recall  f1-score   support\n",
      "\n",
      "           0       0.97      1.00      0.99        38\n",
      "           1       1.00      0.97      0.98        32\n",
      "           2       1.00      1.00      1.00        29\n",
      "\n",
      "    accuracy                           0.99        99\n",
      "   macro avg       0.99      0.99      0.99        99\n",
      "weighted avg       0.99      0.99      0.99        99\n",
      "\n"
     ]
    }
   ],
   "source": [
    "print(CR(y_test,y_pred))"
   ]
  },
  {
   "cell_type": "markdown",
   "id": "acquired-hampton",
   "metadata": {},
   "source": [
    "### SVM: Support Vector Machine"
   ]
  },
  {
   "cell_type": "code",
   "execution_count": 59,
   "id": "initial-accommodation",
   "metadata": {},
   "outputs": [],
   "source": [
    "clf = SVC(gamma='auto')"
   ]
  },
  {
   "cell_type": "markdown",
   "id": "compressed-graph",
   "metadata": {},
   "source": [
    "### Entrenamiento"
   ]
  },
  {
   "cell_type": "code",
   "execution_count": 60,
   "id": "collaborative-briefs",
   "metadata": {
    "scrolled": true
   },
   "outputs": [
    {
     "data": {
      "text/plain": [
       "SVC(gamma='auto')"
      ]
     },
     "execution_count": 60,
     "metadata": {},
     "output_type": "execute_result"
    }
   ],
   "source": [
    "clf.fit(X_train, y_train)"
   ]
  },
  {
   "cell_type": "markdown",
   "id": "civilian-purpose",
   "metadata": {},
   "source": [
    "### Prediccion"
   ]
  },
  {
   "cell_type": "code",
   "execution_count": 61,
   "id": "crude-customs",
   "metadata": {},
   "outputs": [],
   "source": [
    "y_pred = clf.predict(X_test)"
   ]
  },
  {
   "cell_type": "markdown",
   "id": "mature-quick",
   "metadata": {},
   "source": [
    "### Matriz de confusion(4)"
   ]
  },
  {
   "cell_type": "code",
   "execution_count": 62,
   "id": "becoming-finding",
   "metadata": {},
   "outputs": [
    {
     "data": {
      "text/plain": [
       "<sklearn.metrics._plot.confusion_matrix.ConfusionMatrixDisplay at 0x7f57bb5f7b00>"
      ]
     },
     "execution_count": 62,
     "metadata": {},
     "output_type": "execute_result"
    },
    {
     "data": {
      "image/png": "[encoded data removed]",
      "text/plain": [
       "<Figure size 432x288 with 2 Axes>"
      ]
     },
     "metadata": {
      "needs_background": "light"
     },
     "output_type": "display_data"
    }
   ],
   "source": [
    "PCM(clf,X_test, y_test)"
   ]
  },
  {
   "cell_type": "markdown",
   "id": "legendary-finder",
   "metadata": {},
   "source": [
    "### Reporte de clasificacion(4)"
   ]
  },
  {
   "cell_type": "code",
   "execution_count": 63,
   "id": "naughty-small",
   "metadata": {},
   "outputs": [
    {
     "name": "stdout",
     "output_type": "stream",
     "text": [
      "              precision    recall  f1-score   support\n",
      "\n",
      "           0       1.00      1.00      1.00        38\n",
      "           1       1.00      1.00      1.00        32\n",
      "           2       1.00      1.00      1.00        29\n",
      "\n",
      "    accuracy                           1.00        99\n",
      "   macro avg       1.00      1.00      1.00        99\n",
      "weighted avg       1.00      1.00      1.00        99\n",
      "\n"
     ]
    }
   ],
   "source": [
    "print(CR(y_test,y_pred))"
   ]
  },
  {
   "cell_type": "markdown",
   "id": "painful-watts",
   "metadata": {},
   "source": [
    "### Clasificador bayesiano"
   ]
  },
  {
   "cell_type": "code",
   "execution_count": 64,
   "id": "unknown-vietnamese",
   "metadata": {},
   "outputs": [],
   "source": [
    "clf = GaussianNB()"
   ]
  },
  {
   "cell_type": "markdown",
   "id": "received-disclaimer",
   "metadata": {},
   "source": [
    "### Entrenamiento"
   ]
  },
  {
   "cell_type": "code",
   "execution_count": 65,
   "id": "dependent-gentleman",
   "metadata": {
    "scrolled": true
   },
   "outputs": [
    {
     "data": {
      "text/plain": [
       "GaussianNB()"
      ]
     },
     "execution_count": 65,
     "metadata": {},
     "output_type": "execute_result"
    }
   ],
   "source": [
    "clf.fit(X_train, y_train)"
   ]
  },
  {
   "cell_type": "markdown",
   "id": "labeled-aerospace",
   "metadata": {},
   "source": [
    "### Prediccion"
   ]
  },
  {
   "cell_type": "code",
   "execution_count": 66,
   "id": "thirty-schedule",
   "metadata": {},
   "outputs": [],
   "source": [
    "y_pred = clf.predict(X_test)"
   ]
  },
  {
   "cell_type": "markdown",
   "id": "swiss-building",
   "metadata": {},
   "source": [
    "### Matriz de confusion(5)"
   ]
  },
  {
   "cell_type": "code",
   "execution_count": 67,
   "id": "nonprofit-protein",
   "metadata": {},
   "outputs": [
    {
     "data": {
      "text/plain": [
       "<sklearn.metrics._plot.confusion_matrix.ConfusionMatrixDisplay at 0x7f57bb60d780>"
      ]
     },
     "execution_count": 67,
     "metadata": {},
     "output_type": "execute_result"
    },
    {
     "data": {
      "image/png": "[encoded data removed]",
      "text/plain": [
       "<Figure size 432x288 with 2 Axes>"
      ]
     },
     "metadata": {
      "needs_background": "light"
     },
     "output_type": "display_data"
    }
   ],
   "source": [
    "PCM(clf,X_test, y_test)"
   ]
  },
  {
   "cell_type": "markdown",
   "id": "convinced-flashing",
   "metadata": {},
   "source": [
    "### Reporte de clasificacion(5)"
   ]
  },
  {
   "cell_type": "code",
   "execution_count": 68,
   "id": "structured-stereo",
   "metadata": {},
   "outputs": [
    {
     "name": "stdout",
     "output_type": "stream",
     "text": [
      "              precision    recall  f1-score   support\n",
      "\n",
      "           0       0.97      1.00      0.99        38\n",
      "           1       1.00      0.97      0.98        32\n",
      "           2       1.00      1.00      1.00        29\n",
      "\n",
      "    accuracy                           0.99        99\n",
      "   macro avg       0.99      0.99      0.99        99\n",
      "weighted avg       0.99      0.99      0.99        99\n",
      "\n"
     ]
    }
   ],
   "source": [
    "print(CR(y_test,y_pred))"
   ]
  },
  {
   "cell_type": "code",
   "execution_count": 71,
   "id": "aboriginal-aside",
   "metadata": {},
   "outputs": [
    {
     "data": {
      "image/png": "[encoded data removed]",
      "text/plain": [
       "<Figure size 504x504 with 1 Axes>"
      ]
     },
     "metadata": {
      "needs_background": "light"
     },
     "output_type": "display_data"
    }
   ],
   "source": [
    "plot_bars([.99,1,0.99],labels=[\"Neuronal Networks\",\"SVM\",\"Bayesian\"])\n",
    "# plt.savefig(dpi=300,b)"
   ]
  },
  {
   "cell_type": "markdown",
   "id": "occupational-narrow",
   "metadata": {},
   "source": [
    "## Grafica(2): \"Partial overlapping\""
   ]
  },
  {
   "cell_type": "code",
   "execution_count": 29,
   "id": "elementary-command",
   "metadata": {},
   "outputs": [
    {
     "data": {
      "image/png": "[encoded data removed]",
      "text/plain": [
       "<Figure size 504x504 with 1 Axes>"
      ]
     },
     "metadata": {
      "needs_background": "light"
     },
     "output_type": "display_data"
    }
   ],
   "source": [
    "plot_data(1,title=\"Partial overlapping\")\n",
    "plt.savefig(\"02\",dpi=300)"
   ]
  },
  {
   "cell_type": "markdown",
   "id": "bound-terrorism",
   "metadata": {},
   "source": [
    "### Dividir en subconjuntos de prueba y entrenamiento"
   ]
  },
  {
   "cell_type": "code",
   "execution_count": 75,
   "id": "induced-advisory",
   "metadata": {},
   "outputs": [],
   "source": [
    "INDEX=1\n",
    "X_train,X_test,y_train,y_test     = train_test_split(data[INDEX][0], data[INDEX][1], test_size=0.33, random_state=42)"
   ]
  },
  {
   "cell_type": "markdown",
   "id": "thirty-booth",
   "metadata": {},
   "source": [
    "# Clasificacion: \n",
    "Redes neuronal, SVM y Clasificador Bayesiano"
   ]
  },
  {
   "cell_type": "markdown",
   "id": "compliant-applicant",
   "metadata": {},
   "source": [
    "### Redes neuronales"
   ]
  },
  {
   "cell_type": "code",
   "execution_count": 76,
   "id": "starting-shock",
   "metadata": {},
   "outputs": [],
   "source": [
    "clf = MLPClassifier(solver='lbfgs', alpha=1e-5,hidden_layer_sizes=(5, 3), random_state=13)"
   ]
  },
  {
   "cell_type": "markdown",
   "id": "beneficial-hobby",
   "metadata": {},
   "source": [
    "#### Entrenamiento"
   ]
  },
  {
   "cell_type": "code",
   "execution_count": 77,
   "id": "republican-startup",
   "metadata": {},
   "outputs": [
    {
     "data": {
      "text/plain": [
       "MLPClassifier(alpha=1e-05, hidden_layer_sizes=(5, 3), random_state=13,\n",
       "              solver='lbfgs')"
      ]
     },
     "execution_count": 77,
     "metadata": {},
     "output_type": "execute_result"
    }
   ],
   "source": [
    "clf.fit(X_train,y_train)"
   ]
  },
  {
   "cell_type": "markdown",
   "id": "imposed-poland",
   "metadata": {},
   "source": [
    "### Prediccion"
   ]
  },
  {
   "cell_type": "code",
   "execution_count": 78,
   "id": "premier-lodge",
   "metadata": {},
   "outputs": [],
   "source": [
    "y_pred = clf.predict(X_test)"
   ]
  },
  {
   "cell_type": "markdown",
   "id": "comic-ordinary",
   "metadata": {},
   "source": [
    "### Matriz de confusion(6)"
   ]
  },
  {
   "cell_type": "code",
   "execution_count": 79,
   "id": "solved-cliff",
   "metadata": {},
   "outputs": [
    {
     "data": {
      "text/plain": [
       "<sklearn.metrics._plot.confusion_matrix.ConfusionMatrixDisplay at 0x7f57bb3e8550>"
      ]
     },
     "execution_count": 79,
     "metadata": {},
     "output_type": "execute_result"
    },
    {
     "data": {
      "image/png": "[encoded data removed]",
      "text/plain": [
       "<Figure size 432x288 with 2 Axes>"
      ]
     },
     "metadata": {
      "needs_background": "light"
     },
     "output_type": "display_data"
    }
   ],
   "source": [
    "PCM(clf,X_test, y_test)"
   ]
  },
  {
   "cell_type": "markdown",
   "id": "approved-poultry",
   "metadata": {},
   "source": [
    "### Reporte de clasificacion(6)"
   ]
  },
  {
   "cell_type": "code",
   "execution_count": 80,
   "id": "congressional-capital",
   "metadata": {},
   "outputs": [
    {
     "name": "stdout",
     "output_type": "stream",
     "text": [
      "              precision    recall  f1-score   support\n",
      "\n",
      "           0       0.90      0.71      0.79        38\n",
      "           1       0.84      1.00      0.91        32\n",
      "           2       0.84      0.90      0.87        29\n",
      "\n",
      "    accuracy                           0.86        99\n",
      "   macro avg       0.86      0.87      0.86        99\n",
      "weighted avg       0.86      0.86      0.85        99\n",
      "\n"
     ]
    }
   ],
   "source": [
    "print(CR(y_test,y_pred))"
   ]
  },
  {
   "cell_type": "markdown",
   "id": "streaming-footwear",
   "metadata": {},
   "source": [
    "### SVM: Support Vector Machine"
   ]
  },
  {
   "cell_type": "code",
   "execution_count": 81,
   "id": "considered-scanner",
   "metadata": {},
   "outputs": [],
   "source": [
    "clf = SVC(gamma='auto')"
   ]
  },
  {
   "cell_type": "markdown",
   "id": "actual-lindsay",
   "metadata": {},
   "source": [
    "### Entrenamiento"
   ]
  },
  {
   "cell_type": "code",
   "execution_count": 82,
   "id": "helpful-publicity",
   "metadata": {
    "scrolled": true
   },
   "outputs": [
    {
     "data": {
      "text/plain": [
       "SVC(gamma='auto')"
      ]
     },
     "execution_count": 82,
     "metadata": {},
     "output_type": "execute_result"
    }
   ],
   "source": [
    "clf.fit(X_train, y_train)"
   ]
  },
  {
   "cell_type": "markdown",
   "id": "metric-reader",
   "metadata": {},
   "source": [
    "### Prediccion"
   ]
  },
  {
   "cell_type": "code",
   "execution_count": 338,
   "id": "qualified-volunteer",
   "metadata": {},
   "outputs": [],
   "source": [
    "y_pred = clf.predict(X_test)"
   ]
  },
  {
   "cell_type": "markdown",
   "id": "rubber-bryan",
   "metadata": {},
   "source": [
    "### Matriz de confusion(7)"
   ]
  },
  {
   "cell_type": "code",
   "execution_count": 339,
   "id": "persistent-forge",
   "metadata": {},
   "outputs": [
    {
     "data": {
      "text/plain": [
       "<sklearn.metrics._plot.confusion_matrix.ConfusionMatrixDisplay at 0x7f4a3b51f400>"
      ]
     },
     "execution_count": 339,
     "metadata": {},
     "output_type": "execute_result"
    },
    {
     "data": {
      "image/png": "[encoded data removed]",
      "text/plain": [
       "<Figure size 432x288 with 2 Axes>"
      ]
     },
     "metadata": {
      "needs_background": "light"
     },
     "output_type": "display_data"
    }
   ],
   "source": [
    "PCM(clf,X_test, y_test)"
   ]
  },
  {
   "cell_type": "markdown",
   "id": "demonstrated-brown",
   "metadata": {},
   "source": [
    "### Reporte de clasificacion"
   ]
  },
  {
   "cell_type": "code",
   "execution_count": 341,
   "id": "primary-tumor",
   "metadata": {},
   "outputs": [
    {
     "name": "stdout",
     "output_type": "stream",
     "text": [
      "              precision    recall  f1-score   support\n",
      "\n",
      "           0       0.87      0.71      0.78        38\n",
      "           1       0.84      1.00      0.91        32\n",
      "           2       0.83      0.86      0.85        29\n",
      "\n",
      "    accuracy                           0.85        99\n",
      "   macro avg       0.85      0.86      0.85        99\n",
      "weighted avg       0.85      0.85      0.84        99\n",
      "\n"
     ]
    }
   ],
   "source": [
    "print(CR(y_test,y_pred))"
   ]
  },
  {
   "cell_type": "markdown",
   "id": "bronze-clearance",
   "metadata": {},
   "source": [
    "### Clasificador bayesiano"
   ]
  },
  {
   "cell_type": "code",
   "execution_count": 342,
   "id": "advised-plaza",
   "metadata": {},
   "outputs": [],
   "source": [
    "clf = GaussianNB()"
   ]
  },
  {
   "cell_type": "markdown",
   "id": "gross-ensemble",
   "metadata": {},
   "source": [
    "### Entrenamiento"
   ]
  },
  {
   "cell_type": "code",
   "execution_count": 343,
   "id": "killing-sitting",
   "metadata": {
    "scrolled": true
   },
   "outputs": [
    {
     "data": {
      "text/plain": [
       "GaussianNB()"
      ]
     },
     "execution_count": 343,
     "metadata": {},
     "output_type": "execute_result"
    }
   ],
   "source": [
    "clf.fit(X_train, y_train)"
   ]
  },
  {
   "cell_type": "markdown",
   "id": "international-argentina",
   "metadata": {},
   "source": [
    "### Prediccion"
   ]
  },
  {
   "cell_type": "code",
   "execution_count": 344,
   "id": "celtic-details",
   "metadata": {},
   "outputs": [],
   "source": [
    "y_pred = clf.predict(X_test)"
   ]
  },
  {
   "cell_type": "markdown",
   "id": "dressed-checklist",
   "metadata": {},
   "source": [
    "### Matriz de confusion"
   ]
  },
  {
   "cell_type": "code",
   "execution_count": 345,
   "id": "precise-engine",
   "metadata": {},
   "outputs": [
    {
     "data": {
      "text/plain": [
       "<sklearn.metrics._plot.confusion_matrix.ConfusionMatrixDisplay at 0x7f4a3a50f8e0>"
      ]
     },
     "execution_count": 345,
     "metadata": {},
     "output_type": "execute_result"
    },
    {
     "data": {
      "image/png": "[encoded data removed]",
      "text/plain": [
       "<Figure size 432x288 with 2 Axes>"
      ]
     },
     "metadata": {
      "needs_background": "light"
     },
     "output_type": "display_data"
    }
   ],
   "source": [
    "PCM(clf,X_test, y_test)"
   ]
  },
  {
   "cell_type": "markdown",
   "id": "boolean-anime",
   "metadata": {},
   "source": [
    "### Reporte de clasificacion"
   ]
  },
  {
   "cell_type": "code",
   "execution_count": 346,
   "id": "insured-needle",
   "metadata": {},
   "outputs": [
    {
     "name": "stdout",
     "output_type": "stream",
     "text": [
      "              precision    recall  f1-score   support\n",
      "\n",
      "           0       0.88      0.74      0.80        38\n",
      "           1       0.86      1.00      0.93        32\n",
      "           2       0.83      0.86      0.85        29\n",
      "\n",
      "    accuracy                           0.86        99\n",
      "   macro avg       0.86      0.87      0.86        99\n",
      "weighted avg       0.86      0.86      0.86        99\n",
      "\n"
     ]
    }
   ],
   "source": [
    "print(CR(y_test,y_pred))"
   ]
  },
  {
   "cell_type": "code",
   "execution_count": 49,
   "id": "elementary-ownership",
   "metadata": {},
   "outputs": [
    {
     "data": {
      "image/png": "[encoded data removed]",
      "text/plain": [
       "<Figure size 504x504 with 1 Axes>"
      ]
     },
     "metadata": {
      "needs_background": "light"
     },
     "output_type": "display_data"
    }
   ],
   "source": [
    "plot_bars([.85,.85,0.86],labels=[\"Neuronal Networks\",\"SVM\",\"Bayesian\"])"
   ]
  },
  {
   "cell_type": "markdown",
   "id": "pretty-piece",
   "metadata": {},
   "source": [
    "### Grafica(3): Total overlapping"
   ]
  },
  {
   "cell_type": "code",
   "execution_count": 83,
   "id": "declared-afternoon",
   "metadata": {
    "scrolled": false
   },
   "outputs": [
    {
     "data": {
      "image/png": "[encoded data removed]",
      "text/plain": [
       "<Figure size 504x504 with 1 Axes>"
      ]
     },
     "metadata": {
      "needs_background": "light"
     },
     "output_type": "display_data"
    }
   ],
   "source": [
    "plot_data(2,title=\"Total overlapping\")\n",
    "plt.savefig(\"to\",dpi=300)"
   ]
  },
  {
   "cell_type": "markdown",
   "id": "ranging-strength",
   "metadata": {},
   "source": [
    "### Dividir en subconjuntos de prueba y entrenamiento"
   ]
  },
  {
   "cell_type": "code",
   "execution_count": 84,
   "id": "genuine-andrew",
   "metadata": {},
   "outputs": [],
   "source": [
    "INDEX=2\n",
    "X_train,X_test,y_train,y_test     = train_test_split(data[INDEX][0], data[INDEX][1], test_size=0.33, random_state=42)"
   ]
  },
  {
   "cell_type": "markdown",
   "id": "viral-chaos",
   "metadata": {},
   "source": [
    "# Clasificacion: \n",
    "Redes neuronal, SVM y Clasificador Bayesiano"
   ]
  },
  {
   "cell_type": "markdown",
   "id": "frequent-liverpool",
   "metadata": {},
   "source": [
    "### Redes neuronales"
   ]
  },
  {
   "cell_type": "code",
   "execution_count": 85,
   "id": "increasing-plant",
   "metadata": {},
   "outputs": [],
   "source": [
    "clf = MLPClassifier(solver='lbfgs', alpha=1e-5,hidden_layer_sizes=(5, 3), random_state=1)"
   ]
  },
  {
   "cell_type": "markdown",
   "id": "inclusive-punishment",
   "metadata": {},
   "source": [
    "#### Entrenamiento"
   ]
  },
  {
   "cell_type": "code",
   "execution_count": 86,
   "id": "harmful-month",
   "metadata": {},
   "outputs": [
    {
     "name": "stderr",
     "output_type": "stream",
     "text": [
      "/home/nacho/.local/lib/python3.6/site-packages/sklearn/neural_network/_multilayer_perceptron.py:500: ConvergenceWarning: lbfgs failed to converge (status=1):\n",
      "STOP: TOTAL NO. of ITERATIONS REACHED LIMIT.\n",
      "\n",
      "Increase the number of iterations (max_iter) or scale the data as shown in:\n",
      "    https://scikit-learn.org/stable/modules/preprocessing.html\n",
      "  self.n_iter_ = _check_optimize_result(\"lbfgs\", opt_res, self.max_iter)\n"
     ]
    },
    {
     "data": {
      "text/plain": [
       "MLPClassifier(alpha=1e-05, hidden_layer_sizes=(5, 3), random_state=1,\n",
       "              solver='lbfgs')"
      ]
     },
     "execution_count": 86,
     "metadata": {},
     "output_type": "execute_result"
    }
   ],
   "source": [
    "clf.fit(X_train,y_train)"
   ]
  },
  {
   "cell_type": "markdown",
   "id": "realistic-request",
   "metadata": {},
   "source": [
    "### Prediccion"
   ]
  },
  {
   "cell_type": "code",
   "execution_count": 87,
   "id": "future-disposition",
   "metadata": {},
   "outputs": [],
   "source": [
    "y_pred = clf.predict(X_test)"
   ]
  },
  {
   "cell_type": "markdown",
   "id": "pretty-theology",
   "metadata": {},
   "source": [
    "### Matriz de confusion"
   ]
  },
  {
   "cell_type": "code",
   "execution_count": 88,
   "id": "raised-research",
   "metadata": {},
   "outputs": [
    {
     "data": {
      "text/plain": [
       "<sklearn.metrics._plot.confusion_matrix.ConfusionMatrixDisplay at 0x7f57bb43d6a0>"
      ]
     },
     "execution_count": 88,
     "metadata": {},
     "output_type": "execute_result"
    },
    {
     "data": {
      "image/png": "[encoded data removed]",
      "text/plain": [
       "<Figure size 432x288 with 2 Axes>"
      ]
     },
     "metadata": {
      "needs_background": "light"
     },
     "output_type": "display_data"
    }
   ],
   "source": [
    "PCM(clf,X_test, y_test)"
   ]
  },
  {
   "cell_type": "markdown",
   "id": "manual-plain",
   "metadata": {},
   "source": [
    "### Reporte de clasificacion"
   ]
  },
  {
   "cell_type": "code",
   "execution_count": 89,
   "id": "opened-denial",
   "metadata": {},
   "outputs": [
    {
     "name": "stdout",
     "output_type": "stream",
     "text": [
      "              precision    recall  f1-score   support\n",
      "\n",
      "           0       0.86      1.00      0.93        38\n",
      "           1       0.69      0.62      0.66        32\n",
      "           2       0.58      0.52      0.55        29\n",
      "\n",
      "    accuracy                           0.74        99\n",
      "   macro avg       0.71      0.71      0.71        99\n",
      "weighted avg       0.72      0.74      0.73        99\n",
      "\n"
     ]
    }
   ],
   "source": [
    "print(CR(y_test,y_pred))"
   ]
  },
  {
   "cell_type": "markdown",
   "id": "appointed-screen",
   "metadata": {},
   "source": [
    "### SVM: Support Vector Machine"
   ]
  },
  {
   "cell_type": "code",
   "execution_count": 91,
   "id": "italian-camcorder",
   "metadata": {},
   "outputs": [],
   "source": [
    "clf =  SVC(gamma='auto')"
   ]
  },
  {
   "cell_type": "markdown",
   "id": "stunning-henry",
   "metadata": {},
   "source": [
    "### Entrenamiento"
   ]
  },
  {
   "cell_type": "code",
   "execution_count": 92,
   "id": "american-center",
   "metadata": {
    "scrolled": true
   },
   "outputs": [
    {
     "data": {
      "text/plain": [
       "SVC(gamma='auto')"
      ]
     },
     "execution_count": 92,
     "metadata": {},
     "output_type": "execute_result"
    }
   ],
   "source": [
    "clf.fit(X_train, y_train)"
   ]
  },
  {
   "cell_type": "markdown",
   "id": "spiritual-vulnerability",
   "metadata": {},
   "source": [
    "### Prediccion"
   ]
  },
  {
   "cell_type": "code",
   "execution_count": 93,
   "id": "chronic-webster",
   "metadata": {},
   "outputs": [],
   "source": [
    "y_pred = clf.predict(X_test)"
   ]
  },
  {
   "cell_type": "markdown",
   "id": "official-oregon",
   "metadata": {},
   "source": [
    "### Matriz de confusion"
   ]
  },
  {
   "cell_type": "code",
   "execution_count": 94,
   "id": "opposite-january",
   "metadata": {},
   "outputs": [
    {
     "data": {
      "text/plain": [
       "<sklearn.metrics._plot.confusion_matrix.ConfusionMatrixDisplay at 0x7f57bb2df7b8>"
      ]
     },
     "execution_count": 94,
     "metadata": {},
     "output_type": "execute_result"
    },
    {
     "data": {
      "image/png": "[encoded data removed]",
      "text/plain": [
       "<Figure size 432x288 with 2 Axes>"
      ]
     },
     "metadata": {
      "needs_background": "light"
     },
     "output_type": "display_data"
    }
   ],
   "source": [
    "PCM(clf,X_test, y_test)"
   ]
  },
  {
   "cell_type": "markdown",
   "id": "desperate-sherman",
   "metadata": {},
   "source": [
    "### Reporte de clasificacion"
   ]
  },
  {
   "cell_type": "code",
   "execution_count": 95,
   "id": "assumed-society",
   "metadata": {},
   "outputs": [
    {
     "name": "stdout",
     "output_type": "stream",
     "text": [
      "              precision    recall  f1-score   support\n",
      "\n",
      "           0       0.00      0.00      0.00        38\n",
      "           1       0.34      0.78      0.47        32\n",
      "           2       0.72      0.62      0.67        29\n",
      "\n",
      "    accuracy                           0.43        99\n",
      "   macro avg       0.35      0.47      0.38        99\n",
      "weighted avg       0.32      0.43      0.35        99\n",
      "\n"
     ]
    },
    {
     "name": "stderr",
     "output_type": "stream",
     "text": [
      "/home/nacho/.local/lib/python3.6/site-packages/sklearn/metrics/_classification.py:1245: UndefinedMetricWarning: Precision and F-score are ill-defined and being set to 0.0 in labels with no predicted samples. Use `zero_division` parameter to control this behavior.\n",
      "  _warn_prf(average, modifier, msg_start, len(result))\n",
      "/home/nacho/.local/lib/python3.6/site-packages/sklearn/metrics/_classification.py:1245: UndefinedMetricWarning: Precision and F-score are ill-defined and being set to 0.0 in labels with no predicted samples. Use `zero_division` parameter to control this behavior.\n",
      "  _warn_prf(average, modifier, msg_start, len(result))\n",
      "/home/nacho/.local/lib/python3.6/site-packages/sklearn/metrics/_classification.py:1245: UndefinedMetricWarning: Precision and F-score are ill-defined and being set to 0.0 in labels with no predicted samples. Use `zero_division` parameter to control this behavior.\n",
      "  _warn_prf(average, modifier, msg_start, len(result))\n"
     ]
    }
   ],
   "source": [
    "print(CR(y_test,y_pred))"
   ]
  },
  {
   "cell_type": "markdown",
   "id": "stupid-familiar",
   "metadata": {},
   "source": [
    "### Clasificador bayesiano"
   ]
  },
  {
   "cell_type": "code",
   "execution_count": 96,
   "id": "professional-arrangement",
   "metadata": {},
   "outputs": [],
   "source": [
    "clf = GaussianNB()"
   ]
  },
  {
   "cell_type": "markdown",
   "id": "amazing-reset",
   "metadata": {},
   "source": [
    "### Entrenamiento"
   ]
  },
  {
   "cell_type": "code",
   "execution_count": 97,
   "id": "latest-conclusion",
   "metadata": {
    "scrolled": true
   },
   "outputs": [
    {
     "data": {
      "text/plain": [
       "GaussianNB()"
      ]
     },
     "execution_count": 97,
     "metadata": {},
     "output_type": "execute_result"
    }
   ],
   "source": [
    "clf.fit(X_train, y_train)"
   ]
  },
  {
   "cell_type": "markdown",
   "id": "curious-stupid",
   "metadata": {},
   "source": [
    "### Prediccion"
   ]
  },
  {
   "cell_type": "code",
   "execution_count": 98,
   "id": "differential-moore",
   "metadata": {},
   "outputs": [],
   "source": [
    "y_pred = clf.predict(X_test)"
   ]
  },
  {
   "cell_type": "markdown",
   "id": "restricted-chemical",
   "metadata": {},
   "source": [
    "### Matriz de confusion"
   ]
  },
  {
   "cell_type": "code",
   "execution_count": 99,
   "id": "expected-boards",
   "metadata": {},
   "outputs": [
    {
     "data": {
      "text/plain": [
       "<sklearn.metrics._plot.confusion_matrix.ConfusionMatrixDisplay at 0x7f57bb65c5f8>"
      ]
     },
     "execution_count": 99,
     "metadata": {},
     "output_type": "execute_result"
    },
    {
     "data": {
      "image/png": "[encoded data removed]",
      "text/plain": [
       "<Figure size 432x288 with 2 Axes>"
      ]
     },
     "metadata": {
      "needs_background": "light"
     },
     "output_type": "display_data"
    }
   ],
   "source": [
    "PCM(clf,X_test, y_test)"
   ]
  },
  {
   "cell_type": "markdown",
   "id": "magnetic-primary",
   "metadata": {},
   "source": [
    "### Reporte de clasificacion"
   ]
  },
  {
   "cell_type": "code",
   "execution_count": 100,
   "id": "hearing-purchase",
   "metadata": {},
   "outputs": [
    {
     "name": "stdout",
     "output_type": "stream",
     "text": [
      "              precision    recall  f1-score   support\n",
      "\n",
      "           0       0.97      1.00      0.99        38\n",
      "           1       0.81      0.91      0.85        32\n",
      "           2       0.88      0.72      0.79        29\n",
      "\n",
      "    accuracy                           0.89        99\n",
      "   macro avg       0.88      0.88      0.88        99\n",
      "weighted avg       0.89      0.89      0.89        99\n",
      "\n"
     ]
    }
   ],
   "source": [
    "print(CR(y_test,y_pred))"
   ]
  },
  {
   "cell_type": "code",
   "execution_count": 101,
   "id": "existing-antibody",
   "metadata": {},
   "outputs": [
    {
     "data": {
      "image/png": "[encoded data removed]",
      "text/plain": [
       "<Figure size 504x504 with 1 Axes>"
      ]
     },
     "metadata": {
      "needs_background": "light"
     },
     "output_type": "display_data"
    }
   ],
   "source": [
    "plot_bars([.74,.43,0.89],labels=[\"Neuronal Networks\",\"SVM\",\"Bayesian\"])"
   ]
  },
  {
   "cell_type": "markdown",
   "id": "defensive-partner",
   "metadata": {},
   "source": [
    "## Utils"
   ]
  },
  {
   "cell_type": "code",
   "execution_count": 24,
   "id": "expected-missile",
   "metadata": {},
   "outputs": [],
   "source": [
    "def plot_data(INDEX,**kwargs):\n",
    "    _,ax  = plt.subplots(figsize=(7,7))\n",
    "    title =  kwargs.get(\"title\",\"Default title\")\n",
    "    X     = data[INDEX][0]\n",
    "    y     = data[INDEX][1]\n",
    "    data_target = {}\n",
    "    for xi,target in zip(X,y):\n",
    "        if not target in data_target:\n",
    "            data_target[target] = np.array([])\n",
    "        data_target[target] = np.concatenate([ data_target[target], xi ])\n",
    "    COLORS = [\"blue\",\"red\",\"green\"]\n",
    "    for key,Xs in data_target.items():\n",
    "        _X = Xs.reshape(int(Xs.shape[0]/2),2)\n",
    "        ax.scatter(_X[:,0],_X[:,1],color=COLORS[int(key)])\n",
    "    ax.set_title(title)\n",
    "    "
   ]
  }
 ],
 "metadata": {
  "kernelspec": {
   "display_name": "Python 3",
   "language": "python",
   "name": "python3"
  },
  "language_info": {
   "codemirror_mode": {
    "name": "ipython",
    "version": 3
   },
   "file_extension": ".py",
   "mimetype": "text/x-python",
   "name": "python",
   "nbconvert_exporter": "python",
   "pygments_lexer": "ipython3",
   "version": "3.8.5"
  }
 },
 "nbformat": 4,
 "nbformat_minor": 5
}
